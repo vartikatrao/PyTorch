{
  "nbformat": 4,
  "nbformat_minor": 0,
  "metadata": {
    "colab": {
      "provenance": [],
      "authorship_tag": "ABX9TyMh+tveImdEOcgotvbszdD6",
      "include_colab_link": true
    },
    "kernelspec": {
      "name": "python3",
      "display_name": "Python 3"
    },
    "language_info": {
      "name": "python"
    }
  },
  "cells": [
    {
      "cell_type": "markdown",
      "metadata": {
        "id": "view-in-github",
        "colab_type": "text"
      },
      "source": [
        "<a href=\"https://colab.research.google.com/github/vartikatrao/PyTorch/blob/main/SimpleLinearRegression.ipynb\" target=\"_parent\"><img src=\"https://colab.research.google.com/assets/colab-badge.svg\" alt=\"Open In Colab\"/></a>"
      ]
    },
    {
      "cell_type": "code",
      "execution_count": 1,
      "metadata": {
        "colab": {
          "base_uri": "https://localhost:8080/",
          "height": 35
        },
        "id": "_eVE51OsEGt0",
        "outputId": "c1c50ad0-1f71-4cd6-9f9c-a3a715c81354"
      },
      "outputs": [
        {
          "output_type": "execute_result",
          "data": {
            "text/plain": [
              "'2.0.1+cu118'"
            ],
            "application/vnd.google.colaboratory.intrinsic+json": {
              "type": "string"
            }
          },
          "metadata": {},
          "execution_count": 1
        }
      ],
      "source": [
        "import torch\n",
        "from torch import nn\n",
        "import matplotlib.pyplot as plt\n",
        "\n",
        "torch.__version__"
      ]
    },
    {
      "cell_type": "code",
      "source": [
        "device = \"cuda\" if torch.cuda.is_available() else \"cpu\"\n",
        "print (f\"Using device:{device}\")"
      ],
      "metadata": {
        "colab": {
          "base_uri": "https://localhost:8080/"
        },
        "id": "bJKVplc1EiDS",
        "outputId": "90a73884-ee20-4c39-ab8b-02e8d449baac"
      },
      "execution_count": 3,
      "outputs": [
        {
          "output_type": "stream",
          "name": "stdout",
          "text": [
            "Using device:cpu\n"
          ]
        }
      ]
    },
    {
      "cell_type": "code",
      "source": [
        "weight=0.7\n",
        "bias= 0.3\n",
        "\n",
        "start =0.\n",
        "end=1\n",
        "step= 0.02\n",
        "\n",
        "X= torch.arange (start, end, step).unsqueeze(dim=1)\n",
        "y= weight*X+bias\n",
        "X[:10], y[:10]"
      ],
      "metadata": {
        "colab": {
          "base_uri": "https://localhost:8080/"
        },
        "id": "8jmW0lE1E0cJ",
        "outputId": "70fa7ba8-96f3-4ef3-8d08-a4a301b6c991"
      },
      "execution_count": 4,
      "outputs": [
        {
          "output_type": "execute_result",
          "data": {
            "text/plain": [
              "(tensor([[0.0000],\n",
              "         [0.0200],\n",
              "         [0.0400],\n",
              "         [0.0600],\n",
              "         [0.0800],\n",
              "         [0.1000],\n",
              "         [0.1200],\n",
              "         [0.1400],\n",
              "         [0.1600],\n",
              "         [0.1800]]),\n",
              " tensor([[0.3000],\n",
              "         [0.3140],\n",
              "         [0.3280],\n",
              "         [0.3420],\n",
              "         [0.3560],\n",
              "         [0.3700],\n",
              "         [0.3840],\n",
              "         [0.3980],\n",
              "         [0.4120],\n",
              "         [0.4260]]))"
            ]
          },
          "metadata": {},
          "execution_count": 4
        }
      ]
    },
    {
      "cell_type": "code",
      "source": [
        "train_split= int (0.8*len(X))\n",
        "X_train, y_train= X[:train_split], y[:train_split]\n",
        "X_test, y_test= X[train_split:], y[train_split:]\n",
        "len(X_train), len(y_train), len(X_test), len(y_test)"
      ],
      "metadata": {
        "colab": {
          "base_uri": "https://localhost:8080/"
        },
        "id": "nD0nSye5F4WB",
        "outputId": "f1744087-a8b2-4ed9-9649-cb79a861bd5c"
      },
      "execution_count": 6,
      "outputs": [
        {
          "output_type": "execute_result",
          "data": {
            "text/plain": [
              "(40, 40, 10, 10)"
            ]
          },
          "metadata": {},
          "execution_count": 6
        }
      ]
    },
    {
      "cell_type": "code",
      "source": [
        "def plot_predictions (trainX= X_train, trainY= y_train, testX= X_test, testY= y_test, predictions=None ):\n",
        "  plt.figure(figsize=(10,7))\n",
        "  plt.scatter(trainX, trainY, c=\"b\", label=\"Training data\")\n",
        "  plt.scatter(testX, testY, c=\"g\", label=\"Testing data\")\n",
        "  if predictions is not None:\n",
        "    plt.scatter(testX, predictions, c=\"r\", label=\"Predictions\")\n",
        "  plt.legend()"
      ],
      "metadata": {
        "id": "qEZXCnzPGRaC"
      },
      "execution_count": 9,
      "outputs": []
    },
    {
      "cell_type": "code",
      "source": [
        "plot_predictions()"
      ],
      "metadata": {
        "colab": {
          "base_uri": "https://localhost:8080/",
          "height": 599
        },
        "id": "tBp5WfdSH4eC",
        "outputId": "c350f046-5ee4-4ad8-fc98-df4cc82088c7"
      },
      "execution_count": 10,
      "outputs": [
        {
          "output_type": "display_data",
          "data": {
            "text/plain": [
              "<Figure size 1000x700 with 1 Axes>"
            ],
            "image/png": "[encoded data removed]"
          },
          "metadata": {}
        }
      ]
    },
    {
      "cell_type": "code",
      "source": [
        "##building a model\n",
        "class LinearRegressionModel (nn.Module):\n",
        "  def __init__(self):\n",
        "    super().__init__()\n",
        "    self.linear_layer= nn.Linear (in_features=1, out_features=1)\n",
        "  def forward (self, x: torch.tensor)-> torch.tensor:\n",
        "    return self.linear_layer(x)\n",
        "\n",
        "torch.manual_seed(42)\n",
        "model_1= LinearRegressionModel()\n",
        "model_1, model_1.state_dict()"
      ],
      "metadata": {
        "colab": {
          "base_uri": "https://localhost:8080/"
        },
        "id": "cPyfz2f-H6eb",
        "outputId": "1d7e6bc5-9f89-4034-bcf3-bdc17e3a21e8"
      },
      "execution_count": 13,
      "outputs": [
        {
          "output_type": "execute_result",
          "data": {
            "text/plain": [
              "(LinearRegressionModel(\n",
              "   (linear_layer): Linear(in_features=1, out_features=1, bias=True)\n",
              " ),\n",
              " OrderedDict([('linear_layer.weight', tensor([[0.7645]])),\n",
              "              ('linear_layer.bias', tensor([0.8300]))]))"
            ]
          },
          "metadata": {},
          "execution_count": 13
        }
      ]
    },
    {
      "cell_type": "markdown",
      "source": [
        "Training:\n",
        "- Loss function\n",
        "- optimizer\n",
        "- training loop\n",
        "- testing loop"
      ],
      "metadata": {
        "id": "bht65GCnKP2S"
      }
    },
    {
      "cell_type": "code",
      "source": [
        "loss_fn= nn.L1Loss()\n",
        "optimizer= torch.optim.Adam(params= model_1.parameters(), lr=0.01)"
      ],
      "metadata": {
        "id": "c_y3i3i6IuVZ"
      },
      "execution_count": 15,
      "outputs": []
    },
    {
      "cell_type": "code",
      "source": [
        "torch.manual_seed(42)\n",
        "epochs=200\n",
        "\n",
        "for epoch in range (epochs):\n",
        "  model_1.train()\n",
        "\n",
        "  #1. predict\n",
        "  y_pred= model_1(X_train)\n",
        "\n",
        "  #2. Loss\n",
        "  loss= loss_fn (y_pred, y_train)\n",
        "\n",
        "  # Optimizer to 0\n",
        "  optimizer.zero_grad()\n",
        "\n",
        "  # backpropagation\n",
        "  loss.backward()\n",
        "\n",
        "  # optimizer step\n",
        "  optimizer.step()\n",
        "\n",
        "  ### testing\n",
        "  model_1.eval()\n",
        "  with torch.inference_mode():\n",
        "    test_pred= model_1(X_test)\n",
        "    test_loss= loss_fn (test_pred, y_test)\n",
        "\n",
        "  if epoch %10 ==0:\n",
        "    print(f\"Epoch: {epoch}    | Loss: {loss}     | test_loss: {test_loss}\")"
      ],
      "metadata": {
        "colab": {
          "base_uri": "https://localhost:8080/"
        },
        "id": "9F6r2-i1NDdD",
        "outputId": "5176622f-1c53-439f-f9cf-5ad5c3ab99af"
      },
      "execution_count": 17,
      "outputs": [
        {
          "output_type": "stream",
          "name": "stdout",
          "text": [
            "Epoch: 0    | Loss: 0.5551779866218567     | test_loss: 0.568547248840332\n",
            "Epoch: 10    | Loss: 0.4161780774593353     | test_loss: 0.3795473873615265\n",
            "Epoch: 20    | Loss: 0.27717819809913635     | test_loss: 0.19054758548736572\n",
            "Epoch: 30    | Loss: 0.13817831873893738     | test_loss: 0.012273055501282215\n",
            "Epoch: 40    | Loss: 0.06483234465122223     | test_loss: 0.15948258340358734\n",
            "Epoch: 50    | Loss: 0.06953977048397064     | test_loss: 0.19462478160858154\n",
            "Epoch: 60    | Loss: 0.055640317499637604     | test_loss: 0.14198970794677734\n",
            "Epoch: 70    | Loss: 0.0445832796394825     | test_loss: 0.08211381733417511\n",
            "Epoch: 80    | Loss: 0.035734184086322784     | test_loss: 0.0650385171175003\n",
            "Epoch: 90    | Loss: 0.02559966780245304     | test_loss: 0.05930420756340027\n",
            "Epoch: 100    | Loss: 0.015041230246424675     | test_loss: 0.029013926163315773\n",
            "Epoch: 110    | Loss: 0.004283731337636709     | test_loss: 0.008546513505280018\n",
            "Epoch: 120    | Loss: 0.0037691318430006504     | test_loss: 0.009793085046112537\n",
            "Epoch: 130    | Loss: 0.0002783380332402885     | test_loss: 0.0004134833870921284\n",
            "Epoch: 140    | Loss: 0.0009312100592069328     | test_loss: 0.0006192922592163086\n",
            "Epoch: 150    | Loss: 0.000654819596093148     | test_loss: 0.0013326704502105713\n",
            "Epoch: 160    | Loss: 0.00041086674900725484     | test_loss: 0.003840494202449918\n",
            "Epoch: 170    | Loss: 0.0007727444171905518     | test_loss: 0.002183371689170599\n",
            "Epoch: 180    | Loss: 0.000219329449464567     | test_loss: 0.0018166840309277177\n",
            "Epoch: 190    | Loss: 0.0019033238058909774     | test_loss: 0.001605552388355136\n"
          ]
        }
      ]
    },
    {
      "cell_type": "code",
      "source": [
        "model_1.state_dict()"
      ],
      "metadata": {
        "colab": {
          "base_uri": "https://localhost:8080/"
        },
        "id": "rvFlMBIvOUs0",
        "outputId": "42f4fbff-0cc2-4fb2-c641-1d84056f9842"
      },
      "execution_count": 20,
      "outputs": [
        {
          "output_type": "execute_result",
          "data": {
            "text/plain": [
              "OrderedDict([('linear_layer.weight', tensor([[0.6953]])),\n",
              "             ('linear_layer.bias', tensor([0.3000]))])"
            ]
          },
          "metadata": {},
          "execution_count": 20
        }
      ]
    },
    {
      "cell_type": "code",
      "source": [
        "with torch.inference_mode():\n",
        "  y_preds= model_1(X_test)\n",
        "y_preds"
      ],
      "metadata": {
        "colab": {
          "base_uri": "https://localhost:8080/"
        },
        "id": "HHm1Dw3jOoq7",
        "outputId": "c875c30f-50f4-45fa-96a4-ad73799c951d"
      },
      "execution_count": 23,
      "outputs": [
        {
          "output_type": "execute_result",
          "data": {
            "text/plain": [
              "tensor([[0.8562],\n",
              "        [0.8701],\n",
              "        [0.8841],\n",
              "        [0.8980],\n",
              "        [0.9119],\n",
              "        [0.9258],\n",
              "        [0.9397],\n",
              "        [0.9536],\n",
              "        [0.9675],\n",
              "        [0.9814]])"
            ]
          },
          "metadata": {},
          "execution_count": 23
        }
      ]
    },
    {
      "cell_type": "code",
      "source": [
        "plot_predictions (predictions=y_preds)"
      ],
      "metadata": {
        "colab": {
          "base_uri": "https://localhost:8080/",
          "height": 599
        },
        "id": "38_Vhd5_PUyC",
        "outputId": "3f4cb773-67c4-47a8-b32f-6504bc57a9b4"
      },
      "execution_count": 25,
      "outputs": [
        {
          "output_type": "display_data",
          "data": {
            "text/plain": [
              "<Figure size 1000x700 with 1 Axes>"
            ],
            "image/png": "[encoded data removed]"
          },
          "metadata": {}
        }
      ]
    },
    {
      "cell_type": "code",
      "source": [],
      "metadata": {
        "id": "pJqCY0kZPg-L"
      },
      "execution_count": null,
      "outputs": []
    }
  ]
}